{
 "cells": [
  {
   "cell_type": "code",
   "execution_count": 1,
   "id": "28167075",
   "metadata": {},
   "outputs": [],
   "source": [
    "import torch"
   ]
  },
  {
   "cell_type": "code",
   "execution_count": 2,
   "id": "0e4ef077",
   "metadata": {
    "scrolled": true
   },
   "outputs": [
    {
     "name": "stdout",
     "output_type": "stream",
     "text": [
      "x: tensor([0., 1., 2., 3.], requires_grad=True)\n",
      "y: tensor([0., 1., 4., 9.], grad_fn=<MulBackward0>)\n",
      "x.grad: tensor([0., 2., 4., 6.])\n"
     ]
    }
   ],
   "source": [
    "x = torch.arange(4.0)\n",
    "x.requires_grad_(True)\n",
    "y = x * x\n",
    "y.sum().backward()\n",
    "# 注意：直接 y.backward() 是不行的\n",
    "print(\"x:\", x)\n",
    "print(\"y:\", y)\n",
    "print(\"x.grad:\", x.grad)"
   ]
  },
  {
   "cell_type": "code",
   "execution_count": 3,
   "id": "096a541d",
   "metadata": {},
   "outputs": [
    {
     "name": "stdout",
     "output_type": "stream",
     "text": [
      "x: tensor([0., 1., 2., 3.], requires_grad=True)\n",
      "y: tensor([0., 1., 4., 9.], grad_fn=<MulBackward0>)\n",
      "x.grad: tensor([ 0.,  4., 16., 48.])\n"
     ]
    }
   ],
   "source": [
    "x.grad.zero_()\n",
    "\n",
    "x = torch.arange(4.0)\n",
    "x.requires_grad_(True)\n",
    "y = x * x\n",
    "z = torch.tensor([1.0, 2.0, 4.0, 8.0], dtype=torch.float)\n",
    "y.backward(z)\n",
    "# 如果我们要对多维的 y 求梯度，还是要 provide 一个 vector，让算出来的雅可比矩阵点成那个 vector 可以变为 x 原来的形状\n",
    "# 其实就等于最后我们手动给了一个把 matrix -> scalar 的 vector (用于点乘)\n",
    "# https://pytorch.org/tutorials/beginner/introyt/autogradyt_tutorial.html#the-high-level-api\n",
    "print(\"x:\", x)\n",
    "print(\"y:\", y)\n",
    "print(\"x.grad:\", x.grad)"
   ]
  },
  {
   "cell_type": "code",
   "execution_count": 4,
   "id": "4ca9de6b",
   "metadata": {
    "scrolled": true
   },
   "outputs": [
    {
     "name": "stdout",
     "output_type": "stream",
     "text": [
      "x: tensor([0., 1., 2., 3.], requires_grad=True)\n",
      "z: tensor([ 0.,  1.,  8., 27.], grad_fn=<MulBackward0>)\n",
      "x.grad: tensor([0., 1., 4., 9.])\n"
     ]
    }
   ],
   "source": [
    "x.grad.zero_()\n",
    "\n",
    "x = torch.arange(4.0)\n",
    "x.requires_grad_(True)\n",
    "y = x * x\n",
    "u = y.detach() # 把 y 变成常数 (脱离计算图)\n",
    "z = u * x\n",
    "z.sum().backward()\n",
    "print(\"x:\", x)\n",
    "print(\"z:\", z)\n",
    "print(\"x.grad:\", x.grad)"
   ]
  }
 ],
 "metadata": {
  "kernelspec": {
   "display_name": "Python 3 (ipykernel)",
   "language": "python",
   "name": "python3"
  },
  "language_info": {
   "codemirror_mode": {
    "name": "ipython",
    "version": 3
   },
   "file_extension": ".py",
   "mimetype": "text/x-python",
   "name": "python",
   "nbconvert_exporter": "python",
   "pygments_lexer": "ipython3",
   "version": "3.8.10"
  }
 },
 "nbformat": 4,
 "nbformat_minor": 5
}
